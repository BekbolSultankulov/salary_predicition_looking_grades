{
 "cells": [
  {
   "cell_type": "code",
   "execution_count": 1,
   "id": "d166ccc0",
   "metadata": {
    "_cell_guid": "b1076dfc-b9ad-4769-8c92-a6c4dae69d19",
    "_uuid": "8f2839f25d086af736a60e9eeb907d3b93b6e0e5",
    "execution": {
     "iopub.execute_input": "2022-04-04T10:09:06.381797Z",
     "iopub.status.busy": "2022-04-04T10:09:06.381188Z",
     "iopub.status.idle": "2022-04-04T10:09:07.782315Z",
     "shell.execute_reply": "2022-04-04T10:09:07.781273Z",
     "shell.execute_reply.started": "2022-04-04T10:03:52.215616Z"
    },
    "papermill": {
     "duration": 1.428856,
     "end_time": "2022-04-04T10:09:07.782478",
     "exception": false,
     "start_time": "2022-04-04T10:09:06.353622",
     "status": "completed"
    },
    "tags": []
   },
   "outputs": [
    {
     "name": "stdout",
     "output_type": "stream",
     "text": [
      "['salary_train.csv', 'salary_example_submition.csv', 'salary_predict.csv']\n"
     ]
    }
   ],
   "source": [
    "import pandas as pd\n",
    "import seaborn as sns\n",
    "import matplotlib.pyplot as plt\n",
    "import warnings\n",
    "warnings.filterwarnings('ignore')\n",
    "import os\n",
    "print(os.listdir(\"../input/salarykz\"))\n",
    "from sklearn.preprocessing import OneHotEncoder\n",
    "from sklearn.model_selection import train_test_split\n",
    "from sklearn.model_selection import train_test_split\n",
    "from sklearn.preprocessing import StandardScaler\n",
    "from sklearn.tree import DecisionTreeClassifier\n",
    "from sklearn.metrics import confusion_matrix\n",
    "from sklearn import metrics"
   ]
  },
  {
   "cell_type": "code",
   "execution_count": 2,
   "id": "d4cd4cd4",
   "metadata": {
    "execution": {
     "iopub.execute_input": "2022-04-04T10:09:07.825851Z",
     "iopub.status.busy": "2022-04-04T10:09:07.825244Z",
     "iopub.status.idle": "2022-04-04T10:09:07.856061Z",
     "shell.execute_reply": "2022-04-04T10:09:07.856501Z",
     "shell.execute_reply.started": "2022-04-04T10:03:54.053464Z"
    },
    "papermill": {
     "duration": 0.054326,
     "end_time": "2022-04-04T10:09:07.856672",
     "exception": false,
     "start_time": "2022-04-04T10:09:07.802346",
     "status": "completed"
    },
    "tags": []
   },
   "outputs": [],
   "source": [
    "train=pd.read_csv(\"../input/salarykz/salary_train.csv\")\n",
    "test=pd.read_csv(\"../input/salarykz/salary_predict.csv\")\n",
    "submission_demo=pd.read_csv(\"../input/salarykz/salary_example_submition.csv\")"
   ]
  },
  {
   "cell_type": "code",
   "execution_count": 3,
   "id": "487a7c19",
   "metadata": {
    "execution": {
     "iopub.execute_input": "2022-04-04T10:09:07.900017Z",
     "iopub.status.busy": "2022-04-04T10:09:07.899334Z",
     "iopub.status.idle": "2022-04-04T10:09:07.917874Z",
     "shell.execute_reply": "2022-04-04T10:09:07.918700Z",
     "shell.execute_reply.started": "2022-04-04T10:03:55.754892Z"
    },
    "papermill": {
     "duration": 0.044718,
     "end_time": "2022-04-04T10:09:07.918948",
     "exception": false,
     "start_time": "2022-04-04T10:09:07.874230",
     "status": "completed"
    },
    "tags": []
   },
   "outputs": [
    {
     "name": "stdout",
     "output_type": "stream",
     "text": [
      "<class 'pandas.core.frame.DataFrame'>\n",
      "RangeIndex: 9000 entries, 0 to 8999\n",
      "Data columns (total 8 columns):\n",
      " #   Column        Non-Null Count  Dtype \n",
      "---  ------        --------------  ----- \n",
      " 0   Id            9000 non-null   int64 \n",
      " 1   algebra       9000 non-null   int64 \n",
      " 2   programming   9000 non-null   int64 \n",
      " 3   data science  9000 non-null   int64 \n",
      " 4   robotics      9000 non-null   int64 \n",
      " 5   economics     9000 non-null   int64 \n",
      " 6   job           9000 non-null   object\n",
      " 7   salary        9000 non-null   int64 \n",
      "dtypes: int64(7), object(1)\n",
      "memory usage: 562.6+ KB\n"
     ]
    }
   ],
   "source": [
    "train.info()"
   ]
  },
  {
   "cell_type": "code",
   "execution_count": 4,
   "id": "5b45bcd2",
   "metadata": {
    "execution": {
     "iopub.execute_input": "2022-04-04T10:09:07.960058Z",
     "iopub.status.busy": "2022-04-04T10:09:07.959367Z",
     "iopub.status.idle": "2022-04-04T10:09:08.001087Z",
     "shell.execute_reply": "2022-04-04T10:09:08.000456Z",
     "shell.execute_reply.started": "2022-04-04T10:03:57.456305Z"
    },
    "papermill": {
     "duration": 0.063515,
     "end_time": "2022-04-04T10:09:08.001221",
     "exception": false,
     "start_time": "2022-04-04T10:09:07.937706",
     "status": "completed"
    },
    "tags": []
   },
   "outputs": [
    {
     "data": {
      "text/html": [
       "<div>\n",
       "<style scoped>\n",
       "    .dataframe tbody tr th:only-of-type {\n",
       "        vertical-align: middle;\n",
       "    }\n",
       "\n",
       "    .dataframe tbody tr th {\n",
       "        vertical-align: top;\n",
       "    }\n",
       "\n",
       "    .dataframe thead th {\n",
       "        text-align: right;\n",
       "    }\n",
       "</style>\n",
       "<table border=\"1\" class=\"dataframe\">\n",
       "  <thead>\n",
       "    <tr style=\"text-align: right;\">\n",
       "      <th></th>\n",
       "      <th>count</th>\n",
       "      <th>mean</th>\n",
       "      <th>std</th>\n",
       "      <th>min</th>\n",
       "      <th>25%</th>\n",
       "      <th>50%</th>\n",
       "      <th>75%</th>\n",
       "      <th>max</th>\n",
       "    </tr>\n",
       "  </thead>\n",
       "  <tbody>\n",
       "    <tr>\n",
       "      <th>Id</th>\n",
       "      <td>9000.0</td>\n",
       "      <td>4499.500000</td>\n",
       "      <td>2598.220545</td>\n",
       "      <td>0.0</td>\n",
       "      <td>2249.75</td>\n",
       "      <td>4499.5</td>\n",
       "      <td>6749.25</td>\n",
       "      <td>8999.0</td>\n",
       "    </tr>\n",
       "    <tr>\n",
       "      <th>algebra</th>\n",
       "      <td>9000.0</td>\n",
       "      <td>74.485556</td>\n",
       "      <td>14.470835</td>\n",
       "      <td>50.0</td>\n",
       "      <td>62.00</td>\n",
       "      <td>74.0</td>\n",
       "      <td>87.00</td>\n",
       "      <td>99.0</td>\n",
       "    </tr>\n",
       "    <tr>\n",
       "      <th>programming</th>\n",
       "      <td>9000.0</td>\n",
       "      <td>74.500111</td>\n",
       "      <td>14.489513</td>\n",
       "      <td>50.0</td>\n",
       "      <td>62.00</td>\n",
       "      <td>74.0</td>\n",
       "      <td>87.00</td>\n",
       "      <td>99.0</td>\n",
       "    </tr>\n",
       "    <tr>\n",
       "      <th>data science</th>\n",
       "      <td>9000.0</td>\n",
       "      <td>74.349889</td>\n",
       "      <td>14.340312</td>\n",
       "      <td>50.0</td>\n",
       "      <td>62.00</td>\n",
       "      <td>75.0</td>\n",
       "      <td>87.00</td>\n",
       "      <td>99.0</td>\n",
       "    </tr>\n",
       "    <tr>\n",
       "      <th>robotics</th>\n",
       "      <td>9000.0</td>\n",
       "      <td>74.445444</td>\n",
       "      <td>14.362890</td>\n",
       "      <td>50.0</td>\n",
       "      <td>62.00</td>\n",
       "      <td>74.0</td>\n",
       "      <td>87.00</td>\n",
       "      <td>99.0</td>\n",
       "    </tr>\n",
       "    <tr>\n",
       "      <th>economics</th>\n",
       "      <td>9000.0</td>\n",
       "      <td>74.620556</td>\n",
       "      <td>14.402834</td>\n",
       "      <td>50.0</td>\n",
       "      <td>62.00</td>\n",
       "      <td>75.0</td>\n",
       "      <td>87.00</td>\n",
       "      <td>99.0</td>\n",
       "    </tr>\n",
       "    <tr>\n",
       "      <th>salary</th>\n",
       "      <td>9000.0</td>\n",
       "      <td>519763.333333</td>\n",
       "      <td>280505.076008</td>\n",
       "      <td>90000.0</td>\n",
       "      <td>300000.00</td>\n",
       "      <td>460000.0</td>\n",
       "      <td>760000.00</td>\n",
       "      <td>1350000.0</td>\n",
       "    </tr>\n",
       "  </tbody>\n",
       "</table>\n",
       "</div>"
      ],
      "text/plain": [
       "               count           mean            std      min        25%  \\\n",
       "Id            9000.0    4499.500000    2598.220545      0.0    2249.75   \n",
       "algebra       9000.0      74.485556      14.470835     50.0      62.00   \n",
       "programming   9000.0      74.500111      14.489513     50.0      62.00   \n",
       "data science  9000.0      74.349889      14.340312     50.0      62.00   \n",
       "robotics      9000.0      74.445444      14.362890     50.0      62.00   \n",
       "economics     9000.0      74.620556      14.402834     50.0      62.00   \n",
       "salary        9000.0  519763.333333  280505.076008  90000.0  300000.00   \n",
       "\n",
       "                   50%        75%        max  \n",
       "Id              4499.5    6749.25     8999.0  \n",
       "algebra           74.0      87.00       99.0  \n",
       "programming       74.0      87.00       99.0  \n",
       "data science      75.0      87.00       99.0  \n",
       "robotics          74.0      87.00       99.0  \n",
       "economics         75.0      87.00       99.0  \n",
       "salary        460000.0  760000.00  1350000.0  "
      ]
     },
     "execution_count": 4,
     "metadata": {},
     "output_type": "execute_result"
    }
   ],
   "source": [
    "train.describe().T"
   ]
  },
  {
   "cell_type": "code",
   "execution_count": 5,
   "id": "4170892e",
   "metadata": {
    "execution": {
     "iopub.execute_input": "2022-04-04T10:09:08.043161Z",
     "iopub.status.busy": "2022-04-04T10:09:08.042517Z",
     "iopub.status.idle": "2022-04-04T10:09:08.047712Z",
     "shell.execute_reply": "2022-04-04T10:09:08.048180Z",
     "shell.execute_reply.started": "2022-04-04T10:03:59.531480Z"
    },
    "papermill": {
     "duration": 0.028656,
     "end_time": "2022-04-04T10:09:08.048349",
     "exception": false,
     "start_time": "2022-04-04T10:09:08.019693",
     "status": "completed"
    },
    "tags": []
   },
   "outputs": [
    {
     "data": {
      "text/plain": [
       "robotics engineer    1496\n",
       "data scientist       1022\n",
       "senior developer       23\n",
       "Name: job, dtype: int64"
      ]
     },
     "execution_count": 5,
     "metadata": {},
     "output_type": "execute_result"
    }
   ],
   "source": [
    "train[train.salary>700000]['job'].value_counts()"
   ]
  },
  {
   "cell_type": "code",
   "execution_count": 6,
   "id": "dfa92afe",
   "metadata": {
    "execution": {
     "iopub.execute_input": "2022-04-04T10:09:08.092726Z",
     "iopub.status.busy": "2022-04-04T10:09:08.092108Z",
     "iopub.status.idle": "2022-04-04T10:09:08.332640Z",
     "shell.execute_reply": "2022-04-04T10:09:08.333135Z",
     "shell.execute_reply.started": "2022-04-04T10:04:01.586157Z"
    },
    "papermill": {
     "duration": 0.266601,
     "end_time": "2022-04-04T10:09:08.333300",
     "exception": false,
     "start_time": "2022-04-04T10:09:08.066699",
     "status": "completed"
    },
    "tags": []
   },
   "outputs": [
    {
     "data": {
      "image/png": "[encoded data removed]",
      "text/plain": [
       "<Figure size 432x288 with 1 Axes>"
      ]
     },
     "metadata": {
      "needs_background": "light"
     },
     "output_type": "display_data"
    }
   ],
   "source": [
    "ax=sns.boxplot(x=\"job\", y=\"salary\", data=train)\n",
    "ax.tick_params(axis='x', rotation=45)"
   ]
  },
  {
   "cell_type": "code",
   "execution_count": 7,
   "id": "93c31147",
   "metadata": {
    "execution": {
     "iopub.execute_input": "2022-04-04T10:09:08.375570Z",
     "iopub.status.busy": "2022-04-04T10:09:08.374586Z",
     "iopub.status.idle": "2022-04-04T10:09:08.388628Z",
     "shell.execute_reply": "2022-04-04T10:09:08.388020Z",
     "shell.execute_reply.started": "2022-04-04T10:04:04.013312Z"
    },
    "papermill": {
     "duration": 0.036358,
     "end_time": "2022-04-04T10:09:08.388763",
     "exception": false,
     "start_time": "2022-04-04T10:09:08.352405",
     "status": "completed"
    },
    "tags": []
   },
   "outputs": [],
   "source": [
    "bins = [90000, 180000, 270000, 360000, 450000, 540000, 630000,720000,810000,900000,990000,1080000,1170000,1260000,1350000]\n",
    "train['binned'] = pd.cut(train['salary'], bins)"
   ]
  },
  {
   "cell_type": "code",
   "execution_count": 8,
   "id": "3a07215b",
   "metadata": {
    "execution": {
     "iopub.execute_input": "2022-04-04T10:09:08.442299Z",
     "iopub.status.busy": "2022-04-04T10:09:08.441354Z",
     "iopub.status.idle": "2022-04-04T10:09:08.444338Z",
     "shell.execute_reply": "2022-04-04T10:09:08.443724Z",
     "shell.execute_reply.started": "2022-04-04T10:07:07.260849Z"
    },
    "papermill": {
     "duration": 0.035832,
     "end_time": "2022-04-04T10:09:08.444481",
     "exception": false,
     "start_time": "2022-04-04T10:09:08.408649",
     "status": "completed"
    },
    "tags": []
   },
   "outputs": [],
   "source": [
    "def bines(x):\n",
    "    if x<=180000:\n",
    "        return 135000\n",
    "    elif x>180000 and x<=270000:\n",
    "        return 225000\n",
    "    elif x>270000 and x<=360000:\n",
    "        return 315000\n",
    "    elif x>360000 and x<=450000:\n",
    "        return 405000\n",
    "    elif x>450000 and x<=540000:\n",
    "        return 495000\n",
    "    elif x>540000 and x<=630000:\n",
    "        return 585000\n",
    "    elif x>630000 and x<=720000:\n",
    "        return 675000\n",
    "    elif x>720000 and x<=810000:\n",
    "        return 765000\n",
    "    elif x>810000 and x<=900000:\n",
    "        return 855000\n",
    "    elif x>900000 and x<=990000:\n",
    "        return 945000\n",
    "    elif x>990000 and x<=1080000:\n",
    "        return 1035000\n",
    "    elif x>1080000 and x<=1170000:\n",
    "        return 1125000\n",
    "    elif x>1170000 and x<=1260000:\n",
    "        return 1215000\n",
    "    else:\n",
    "        return 1305000\n",
    "train['label']=train['salary'].apply(bines)"
   ]
  },
  {
   "cell_type": "code",
   "execution_count": 9,
   "id": "eab58a01",
   "metadata": {
    "execution": {
     "iopub.execute_input": "2022-04-04T10:09:08.489670Z",
     "iopub.status.busy": "2022-04-04T10:09:08.489057Z",
     "iopub.status.idle": "2022-04-04T10:09:08.492689Z",
     "shell.execute_reply": "2022-04-04T10:09:08.492222Z",
     "shell.execute_reply.started": "2022-04-04T10:07:11.462060Z"
    },
    "papermill": {
     "duration": 0.028514,
     "end_time": "2022-04-04T10:09:08.492818",
     "exception": false,
     "start_time": "2022-04-04T10:09:08.464304",
     "status": "completed"
    },
    "tags": []
   },
   "outputs": [
    {
     "data": {
      "text/plain": [
       "array(['junior developer', 'data scientist', 'developer', 'economist',\n",
       "       'robotics engineer', 'senior developer'], dtype=object)"
      ]
     },
     "execution_count": 9,
     "metadata": {},
     "output_type": "execute_result"
    }
   ],
   "source": [
    "train.job.unique()"
   ]
  },
  {
   "cell_type": "code",
   "execution_count": 10,
   "id": "cf76fd36",
   "metadata": {
    "execution": {
     "iopub.execute_input": "2022-04-04T10:09:08.538626Z",
     "iopub.status.busy": "2022-04-04T10:09:08.538055Z",
     "iopub.status.idle": "2022-04-04T10:09:08.554436Z",
     "shell.execute_reply": "2022-04-04T10:09:08.555001Z",
     "shell.execute_reply.started": "2022-04-04T10:07:20.435911Z"
    },
    "papermill": {
     "duration": 0.042136,
     "end_time": "2022-04-04T10:09:08.555164",
     "exception": false,
     "start_time": "2022-04-04T10:09:08.513028",
     "status": "completed"
    },
    "tags": []
   },
   "outputs": [],
   "source": [
    "encoder = OneHotEncoder(handle_unknown='ignore')\n",
    "encoder_df = pd.DataFrame(encoder.fit_transform(train[['job']]).toarray())\n",
    "train_final = train.join(encoder_df)\n",
    "\n",
    "encoder_df_2=pd.DataFrame(encoder.fit_transform(test[['job']]).toarray())\n",
    "test_final = test.join(encoder_df_2)\n",
    "\n",
    "y=train_final['label']\n",
    "X=train_final[['algebra','programming','data science','robotics','economics',0,1,2,3,4,5]]"
   ]
  },
  {
   "cell_type": "code",
   "execution_count": 11,
   "id": "60e60112",
   "metadata": {
    "execution": {
     "iopub.execute_input": "2022-04-04T10:09:08.599735Z",
     "iopub.status.busy": "2022-04-04T10:09:08.599113Z",
     "iopub.status.idle": "2022-04-04T10:09:08.604360Z",
     "shell.execute_reply": "2022-04-04T10:09:08.604824Z",
     "shell.execute_reply.started": "2022-04-04T10:07:22.730752Z"
    },
    "papermill": {
     "duration": 0.028747,
     "end_time": "2022-04-04T10:09:08.605016",
     "exception": false,
     "start_time": "2022-04-04T10:09:08.576269",
     "status": "completed"
    },
    "tags": []
   },
   "outputs": [],
   "source": [
    "test_final.drop(['Id','job','salary'],axis=1,inplace=True)"
   ]
  },
  {
   "cell_type": "code",
   "execution_count": 12,
   "id": "e3185315",
   "metadata": {
    "execution": {
     "iopub.execute_input": "2022-04-04T10:09:08.647509Z",
     "iopub.status.busy": "2022-04-04T10:09:08.646903Z",
     "iopub.status.idle": "2022-04-04T10:09:08.696866Z",
     "shell.execute_reply": "2022-04-04T10:09:08.697317Z",
     "shell.execute_reply.started": "2022-04-04T10:07:24.700611Z"
    },
    "papermill": {
     "duration": 0.072598,
     "end_time": "2022-04-04T10:09:08.697505",
     "exception": false,
     "start_time": "2022-04-04T10:09:08.624907",
     "status": "completed"
    },
    "tags": []
   },
   "outputs": [
    {
     "name": "stdout",
     "output_type": "stream",
     "text": [
      "Accuracy Score: 0.5377777777777778\n"
     ]
    }
   ],
   "source": [
    "X_train, X_test, y_train, y_test = train_test_split(X, y, test_size=0.20, random_state=42)\n",
    "sc_X = StandardScaler()\n",
    "X_train = sc_X.fit_transform(X_train)\n",
    "X_test = sc_X.transform(X_test)\n",
    "\n",
    "\n",
    "X_final_test=sc_X.transform(test_final)\n",
    "                            \n",
    "classifier = DecisionTreeClassifier(random_state=0)\n",
    "classifier = classifier.fit(X_train, y_train)\n",
    "y_pred = classifier.predict(X_test)\n",
    "print('Accuracy Score:', metrics.accuracy_score(y_test,y_pred))"
   ]
  },
  {
   "cell_type": "code",
   "execution_count": 13,
   "id": "b1f20866",
   "metadata": {
    "execution": {
     "iopub.execute_input": "2022-04-04T10:09:08.740810Z",
     "iopub.status.busy": "2022-04-04T10:09:08.740182Z",
     "iopub.status.idle": "2022-04-04T10:09:09.524321Z",
     "shell.execute_reply": "2022-04-04T10:09:09.523551Z",
     "shell.execute_reply.started": "2022-04-04T10:07:27.215673Z"
    },
    "papermill": {
     "duration": 0.806741,
     "end_time": "2022-04-04T10:09:09.524526",
     "exception": false,
     "start_time": "2022-04-04T10:09:08.717785",
     "status": "completed"
    },
    "tags": []
   },
   "outputs": [
    {
     "name": "stdout",
     "output_type": "stream",
     "text": [
      "Accuracy Score: 0.5933333333333334\n"
     ]
    }
   ],
   "source": [
    "from sklearn.ensemble import RandomForestClassifier\n",
    "clf_2 = RandomForestClassifier(max_depth=10, random_state=0)\n",
    "clf_2.fit(X_train, y_train)\n",
    "y_pred = clf_2.predict(X_test)\n",
    "print('Accuracy Score:', metrics.accuracy_score(y_test,y_pred))"
   ]
  },
  {
   "cell_type": "code",
   "execution_count": 14,
   "id": "08ee44c5",
   "metadata": {
    "execution": {
     "iopub.execute_input": "2022-04-04T10:09:09.570547Z",
     "iopub.status.busy": "2022-04-04T10:09:09.569938Z",
     "iopub.status.idle": "2022-04-04T10:09:09.582916Z",
     "shell.execute_reply": "2022-04-04T10:09:09.583590Z",
     "shell.execute_reply.started": "2022-04-04T10:07:31.531786Z"
    },
    "papermill": {
     "duration": 0.03838,
     "end_time": "2022-04-04T10:09:09.583824",
     "exception": false,
     "start_time": "2022-04-04T10:09:09.545444",
     "status": "completed"
    },
    "tags": []
   },
   "outputs": [
    {
     "name": "stdout",
     "output_type": "stream",
     "text": [
      "Accuracy Score: 0.3438888888888889\n"
     ]
    }
   ],
   "source": [
    "from sklearn.naive_bayes import GaussianNB\n",
    "gnb = GaussianNB()\n",
    "gnb.fit(X_train, y_train)\n",
    "y_pred = gnb.predict(X_test)\n",
    "print('Accuracy Score:', metrics.accuracy_score(y_test,y_pred))"
   ]
  },
  {
   "cell_type": "code",
   "execution_count": 15,
   "id": "3d1ac981",
   "metadata": {
    "execution": {
     "iopub.execute_input": "2022-04-04T10:09:09.631712Z",
     "iopub.status.busy": "2022-04-04T10:09:09.629427Z",
     "iopub.status.idle": "2022-04-04T10:09:11.380544Z",
     "shell.execute_reply": "2022-04-04T10:09:11.381638Z",
     "shell.execute_reply.started": "2022-04-04T10:07:34.293078Z"
    },
    "papermill": {
     "duration": 1.776191,
     "end_time": "2022-04-04T10:09:11.381854",
     "exception": false,
     "start_time": "2022-04-04T10:09:09.605663",
     "status": "completed"
    },
    "tags": []
   },
   "outputs": [
    {
     "name": "stdout",
     "output_type": "stream",
     "text": [
      "Accuracy Score: 0.5933333333333334\n"
     ]
    }
   ],
   "source": [
    "from sklearn import svm\n",
    "clf_3 = svm.SVC()\n",
    "clf_3.fit(X_train, y_train)\n",
    "y_pred = clf_3.predict(X_test)\n",
    "print('Accuracy Score:', metrics.accuracy_score(y_test,y_pred))"
   ]
  },
  {
   "cell_type": "code",
   "execution_count": 16,
   "id": "6d367f38",
   "metadata": {
    "execution": {
     "iopub.execute_input": "2022-04-04T10:09:11.431891Z",
     "iopub.status.busy": "2022-04-04T10:09:11.431278Z",
     "iopub.status.idle": "2022-04-04T10:09:11.569796Z",
     "shell.execute_reply": "2022-04-04T10:09:11.570504Z",
     "shell.execute_reply.started": "2022-04-04T10:07:43.132823Z"
    },
    "papermill": {
     "duration": 0.16681,
     "end_time": "2022-04-04T10:09:11.570725",
     "exception": false,
     "start_time": "2022-04-04T10:09:11.403915",
     "status": "completed"
    },
    "tags": []
   },
   "outputs": [
    {
     "name": "stdout",
     "output_type": "stream",
     "text": [
      "Accuracy Score: 0.5861111111111111\n"
     ]
    }
   ],
   "source": [
    "from sklearn.neighbors import KNeighborsClassifier\n",
    "neigh = KNeighborsClassifier(n_neighbors=10)\n",
    "neigh.fit(X_train, y_train)\n",
    "y_pred = neigh.predict(X_test)\n",
    "print('Accuracy Score:', metrics.accuracy_score(y_test,y_pred))\n"
   ]
  },
  {
   "cell_type": "code",
   "execution_count": 17,
   "id": "dfae916e",
   "metadata": {
    "execution": {
     "iopub.execute_input": "2022-04-04T10:09:11.621290Z",
     "iopub.status.busy": "2022-04-04T10:09:11.620026Z",
     "iopub.status.idle": "2022-04-04T10:09:11.656671Z",
     "shell.execute_reply": "2022-04-04T10:09:11.657129Z",
     "shell.execute_reply.started": "2022-04-04T10:07:52.003876Z"
    },
    "papermill": {
     "duration": 0.063251,
     "end_time": "2022-04-04T10:09:11.657306",
     "exception": false,
     "start_time": "2022-04-04T10:09:11.594055",
     "status": "completed"
    },
    "tags": []
   },
   "outputs": [],
   "source": [
    "y_pred = clf_2.predict(X_final_test)"
   ]
  },
  {
   "cell_type": "code",
   "execution_count": 18,
   "id": "24c0efe2",
   "metadata": {
    "execution": {
     "iopub.execute_input": "2022-04-04T10:09:11.704725Z",
     "iopub.status.busy": "2022-04-04T10:09:11.703030Z",
     "iopub.status.idle": "2022-04-04T10:09:11.706362Z",
     "shell.execute_reply": "2022-04-04T10:09:11.706808Z",
     "shell.execute_reply.started": "2022-04-04T10:07:53.833338Z"
    },
    "papermill": {
     "duration": 0.028661,
     "end_time": "2022-04-04T10:09:11.706986",
     "exception": false,
     "start_time": "2022-04-04T10:09:11.678325",
     "status": "completed"
    },
    "tags": []
   },
   "outputs": [],
   "source": [
    "test['salary']=y_pred"
   ]
  },
  {
   "cell_type": "code",
   "execution_count": 19,
   "id": "37ab5d90",
   "metadata": {
    "execution": {
     "iopub.execute_input": "2022-04-04T10:09:11.753369Z",
     "iopub.status.busy": "2022-04-04T10:09:11.752713Z",
     "iopub.status.idle": "2022-04-04T10:09:11.756689Z",
     "shell.execute_reply": "2022-04-04T10:09:11.757135Z",
     "shell.execute_reply.started": "2022-04-04T10:07:55.296285Z"
    },
    "papermill": {
     "duration": 0.028341,
     "end_time": "2022-04-04T10:09:11.757306",
     "exception": false,
     "start_time": "2022-04-04T10:09:11.728965",
     "status": "completed"
    },
    "tags": []
   },
   "outputs": [],
   "source": [
    "submit=test[['Id','salary']]"
   ]
  },
  {
   "cell_type": "code",
   "execution_count": 20,
   "id": "e731d8d6",
   "metadata": {
    "execution": {
     "iopub.execute_input": "2022-04-04T10:09:11.803611Z",
     "iopub.status.busy": "2022-04-04T10:09:11.802979Z",
     "iopub.status.idle": "2022-04-04T10:09:11.812655Z",
     "shell.execute_reply": "2022-04-04T10:09:11.813240Z",
     "shell.execute_reply.started": "2022-04-04T10:07:56.855410Z"
    },
    "papermill": {
     "duration": 0.034837,
     "end_time": "2022-04-04T10:09:11.813403",
     "exception": false,
     "start_time": "2022-04-04T10:09:11.778566",
     "status": "completed"
    },
    "tags": []
   },
   "outputs": [
    {
     "name": "stdout",
     "output_type": "stream",
     "text": [
      "<class 'pandas.core.frame.DataFrame'>\n",
      "RangeIndex: 1000 entries, 0 to 999\n",
      "Data columns (total 2 columns):\n",
      " #   Column  Non-Null Count  Dtype\n",
      "---  ------  --------------  -----\n",
      " 0   Id      1000 non-null   int64\n",
      " 1   salary  1000 non-null   int64\n",
      "dtypes: int64(2)\n",
      "memory usage: 15.8 KB\n"
     ]
    }
   ],
   "source": [
    "submit.info()"
   ]
  },
  {
   "cell_type": "code",
   "execution_count": 21,
   "id": "8e31817a",
   "metadata": {
    "execution": {
     "iopub.execute_input": "2022-04-04T10:09:11.859266Z",
     "iopub.status.busy": "2022-04-04T10:09:11.858619Z",
     "iopub.status.idle": "2022-04-04T10:09:11.876668Z",
     "shell.execute_reply": "2022-04-04T10:09:11.877143Z",
     "shell.execute_reply.started": "2022-04-04T10:07:59.839061Z"
    },
    "papermill": {
     "duration": 0.042499,
     "end_time": "2022-04-04T10:09:11.877308",
     "exception": false,
     "start_time": "2022-04-04T10:09:11.834809",
     "status": "completed"
    },
    "tags": []
   },
   "outputs": [
    {
     "data": {
      "text/html": [
       "<div>\n",
       "<style scoped>\n",
       "    .dataframe tbody tr th:only-of-type {\n",
       "        vertical-align: middle;\n",
       "    }\n",
       "\n",
       "    .dataframe tbody tr th {\n",
       "        vertical-align: top;\n",
       "    }\n",
       "\n",
       "    .dataframe thead th {\n",
       "        text-align: right;\n",
       "    }\n",
       "</style>\n",
       "<table border=\"1\" class=\"dataframe\">\n",
       "  <thead>\n",
       "    <tr style=\"text-align: right;\">\n",
       "      <th></th>\n",
       "      <th>count</th>\n",
       "      <th>mean</th>\n",
       "      <th>std</th>\n",
       "      <th>min</th>\n",
       "      <th>25%</th>\n",
       "      <th>50%</th>\n",
       "      <th>75%</th>\n",
       "      <th>max</th>\n",
       "    </tr>\n",
       "  </thead>\n",
       "  <tbody>\n",
       "    <tr>\n",
       "      <th>Id</th>\n",
       "      <td>1000.0</td>\n",
       "      <td>9499.5</td>\n",
       "      <td>288.819436</td>\n",
       "      <td>9000.0</td>\n",
       "      <td>9249.75</td>\n",
       "      <td>9499.5</td>\n",
       "      <td>9749.25</td>\n",
       "      <td>9999.0</td>\n",
       "    </tr>\n",
       "    <tr>\n",
       "      <th>salary</th>\n",
       "      <td>1000.0</td>\n",
       "      <td>509490.0</td>\n",
       "      <td>275736.051815</td>\n",
       "      <td>135000.0</td>\n",
       "      <td>315000.00</td>\n",
       "      <td>405000.0</td>\n",
       "      <td>765000.00</td>\n",
       "      <td>1125000.0</td>\n",
       "    </tr>\n",
       "  </tbody>\n",
       "</table>\n",
       "</div>"
      ],
      "text/plain": [
       "         count      mean            std       min        25%       50%  \\\n",
       "Id      1000.0    9499.5     288.819436    9000.0    9249.75    9499.5   \n",
       "salary  1000.0  509490.0  275736.051815  135000.0  315000.00  405000.0   \n",
       "\n",
       "              75%        max  \n",
       "Id        9749.25     9999.0  \n",
       "salary  765000.00  1125000.0  "
      ]
     },
     "execution_count": 21,
     "metadata": {},
     "output_type": "execute_result"
    }
   ],
   "source": [
    "submit.describe().T"
   ]
  },
  {
   "cell_type": "code",
   "execution_count": 22,
   "id": "dbf741c4",
   "metadata": {
    "execution": {
     "iopub.execute_input": "2022-04-04T10:09:11.924141Z",
     "iopub.status.busy": "2022-04-04T10:09:11.923532Z",
     "iopub.status.idle": "2022-04-04T10:09:11.930749Z",
     "shell.execute_reply": "2022-04-04T10:09:11.931204Z",
     "shell.execute_reply.started": "2022-04-04T10:08:08.606636Z"
    },
    "papermill": {
     "duration": 0.03228,
     "end_time": "2022-04-04T10:09:11.931376",
     "exception": false,
     "start_time": "2022-04-04T10:09:11.899096",
     "status": "completed"
    },
    "tags": []
   },
   "outputs": [],
   "source": [
    "submit.to_csv('submission.csv', index=False)"
   ]
  }
 ],
 "metadata": {
  "kernelspec": {
   "display_name": "Python 3",
   "language": "python",
   "name": "python3"
  },
  "language_info": {
   "codemirror_mode": {
    "name": "ipython",
    "version": 3
   },
   "file_extension": ".py",
   "mimetype": "text/x-python",
   "name": "python",
   "nbconvert_exporter": "python",
   "pygments_lexer": "ipython3",
   "version": "3.7.12"
  },
  "papermill": {
   "default_parameters": {},
   "duration": 14.924565,
   "end_time": "2022-04-04T10:09:12.663743",
   "environment_variables": {},
   "exception": null,
   "input_path": "__notebook__.ipynb",
   "output_path": "__notebook__.ipynb",
   "parameters": {},
   "start_time": "2022-04-04T10:08:57.739178",
   "version": "2.3.3"
  }
 },
 "nbformat": 4,
 "nbformat_minor": 5
}
